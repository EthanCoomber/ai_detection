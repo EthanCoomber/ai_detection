{
 "cells": [
  {
   "cell_type": "markdown",
   "id": "93d833e3",
   "metadata": {},
   "source": [
    "# AI-Generated Text Detection - Baseline Model"
   ]
  },
  {
   "cell_type": "code",
   "execution_count": 10,
   "id": "1d73bcef",
   "metadata": {},
   "outputs": [],
   "source": [
    "\n",
    "import pandas as pd\n",
    "from sklearn.model_selection import train_test_split\n",
    "from sklearn.feature_extraction.text import TfidfVectorizer\n",
    "from sklearn.linear_model import LogisticRegression\n",
    "from sklearn.metrics import classification_report, confusion_matrix\n",
    "import matplotlib.pyplot as plt\n",
    "import seaborn as sns\n",
    "\n",
    "try:\n",
    "    from datasets import load_dataset\n",
    "except ModuleNotFoundError:\n",
    "    import subprocess\n",
    "    import sys\n",
    "    subprocess.check_call([sys.executable, \"-m\", \"pip\", \"install\", \"datasets\"])\n",
    "    from datasets import load_dataset\n"
   ]
  },
  {
   "cell_type": "markdown",
   "id": "b5f1339b",
   "metadata": {},
   "source": [
    "## Load and Preprocess Dataset"
   ]
  },
  {
   "cell_type": "code",
   "execution_count": 21,
   "id": "87a98335",
   "metadata": {},
   "outputs": [],
   "source": [
    "from datasets import load_dataset\n",
    "import pandas as pd\n",
    "\n",
    "dataset = load_dataset(\n",
    "    \"json\",\n",
    "    data_files=\"https://huggingface.co/datasets/Hello-SimpleAI/HC3/resolve/main/all.jsonl\",\n",
    "    split=\"train\"\n",
    ")\n",
    "\n",
    "df_raw = pd.DataFrame(dataset)\n",
    "df_raw.to_json(\"data/HC3_dataset.json\")"
   ]
  },
  {
   "cell_type": "code",
   "execution_count": 11,
   "id": "9d8bddad",
   "metadata": {},
   "outputs": [],
   "source": [
    "from datasets import load_dataset\n",
    "import pandas as pd\n",
    "\n",
    "# Load the raw JSONL from the repo using the 'json' loader\n",
    "dataset = load_dataset(\n",
    "    \"json\",\n",
    "    data_files=\"https://huggingface.co/datasets/Hello-SimpleAI/HC3/resolve/main/all.jsonl\",\n",
    "    split=\"train\"  # there's only a single 'train' split in this JSON file\n",
    ")\n",
    "\n",
    "# Convert to pandas\n",
    "df_raw = pd.DataFrame(dataset)\n",
    "\n",
    "# Flatten lists of answers\n",
    "human = pd.DataFrame({'text': sum(df_raw['human_answers'].tolist(), []), 'label': 0})\n",
    "chatgpt = pd.DataFrame({'text': sum(df_raw['chatgpt_answers'].tolist(), []), 'label': 1})\n",
    "\n",
    "df = pd.concat([human, chatgpt]).reset_index(drop=True)\n"
   ]
  },
  {
   "cell_type": "markdown",
   "id": "1ed99d98",
   "metadata": {},
   "source": [
    "## Train-Test Split"
   ]
  },
  {
   "cell_type": "code",
   "execution_count": 12,
   "id": "aa443767",
   "metadata": {},
   "outputs": [],
   "source": [
    "\n",
    "X_train, X_test, y_train, y_test = train_test_split(df['text'], df['label'], test_size=0.2, random_state=42)\n"
   ]
  },
  {
   "cell_type": "markdown",
   "id": "c017055f",
   "metadata": {},
   "source": [
    "## TF-IDF Vectorization"
   ]
  },
  {
   "cell_type": "code",
   "execution_count": 13,
   "id": "4105c11a",
   "metadata": {},
   "outputs": [],
   "source": [
    "\n",
    "vectorizer = TfidfVectorizer(max_features=5000)\n",
    "X_train_tfidf = vectorizer.fit_transform(X_train)\n",
    "X_test_tfidf = vectorizer.transform(X_test)\n"
   ]
  },
  {
   "cell_type": "markdown",
   "id": "fdca3cfd",
   "metadata": {},
   "source": [
    "## Train Logistic Regression Baseline Model"
   ]
  },
  {
   "cell_type": "code",
   "execution_count": 14,
   "id": "54433de0",
   "metadata": {},
   "outputs": [
    {
     "name": "stdout",
     "output_type": "stream",
     "text": [
      "              precision    recall  f1-score   support\n",
      "\n",
      "           0       0.96      0.98      0.97     11752\n",
      "           1       0.95      0.91      0.93      5338\n",
      "\n",
      "    accuracy                           0.96     17090\n",
      "   macro avg       0.95      0.94      0.95     17090\n",
      "weighted avg       0.96      0.96      0.96     17090\n",
      "\n"
     ]
    },
    {
     "data": {
      "image/png": "[encoded data removed]",
      "text/plain": [
       "<Figure size 640x480 with 2 Axes>"
      ]
     },
     "metadata": {},
     "output_type": "display_data"
    }
   ],
   "source": [
    "\n",
    "model = LogisticRegression(max_iter=1000)\n",
    "model.fit(X_train_tfidf, y_train)\n",
    "\n",
    "y_pred = model.predict(X_test_tfidf)\n",
    "print(classification_report(y_test, y_pred))\n",
    "\n",
    "cm = confusion_matrix(y_test, y_pred)\n",
    "sns.heatmap(cm, annot=True, fmt='d', cmap='Blues')\n",
    "plt.xlabel('Predicted')\n",
    "plt.ylabel('True')\n",
    "plt.title('Confusion Matrix')\n",
    "plt.show()\n"
   ]
  },
  {
   "cell_type": "code",
   "execution_count": 15,
   "id": "ff510674",
   "metadata": {},
   "outputs": [
    {
     "name": "stdout",
     "output_type": "stream",
     "text": [
      "Accuracy: 0.9565\n",
      "Precision: 0.9474\n",
      "Recall: 0.9112\n",
      "F1 Score: 0.9290\n"
     ]
    }
   ],
   "source": [
    "\n",
    "from sklearn.metrics import accuracy_score, precision_score, recall_score, f1_score\n",
    "\n",
    "accuracy = accuracy_score(y_test, y_pred)\n",
    "precision = precision_score(y_test, y_pred)\n",
    "recall = recall_score(y_test, y_pred)\n",
    "f1 = f1_score(y_test, y_pred)\n",
    "\n",
    "print(f\"Accuracy: {accuracy:.4f}\")\n",
    "print(f\"Precision: {precision:.4f}\")\n",
    "print(f\"Recall: {recall:.4f}\")\n",
    "print(f\"F1 Score: {f1:.4f}\")\n"
   ]
  },
  {
   "cell_type": "code",
   "execution_count": 16,
   "id": "31fcb41a",
   "metadata": {},
   "outputs": [
    {
     "name": "stdout",
     "output_type": "stream",
     "text": [
      "Model and vectorizer saved!\n"
     ]
    }
   ],
   "source": [
    "\n",
    "import joblib\n",
    "\n",
    "joblib.dump(model, \"tfidf_logreg_model.pkl\")\n",
    "joblib.dump(vectorizer, \"tfidf_vectorizer.pkl\")\n",
    "print(\"Model and vectorizer saved!\")\n"
   ]
  },
  {
   "cell_type": "code",
   "execution_count": 17,
   "id": "3e7fe9ef",
   "metadata": {},
   "outputs": [
    {
     "name": "stdout",
     "output_type": "stream",
     "text": [
      "Human\n"
     ]
    }
   ],
   "source": [
    "\n",
    "def predict_text(text):\n",
    "    text_tfidf = vectorizer.transform([text])\n",
    "    prediction = model.predict(text_tfidf)[0]\n",
    "    return \"ChatGPT\" if prediction == 1 else \"Human\"\n",
    "\n",
    "# Test example\n",
    "print(predict_text(\"This is a sample input text.\"))\n"
   ]
  },
  {
   "cell_type": "code",
   "execution_count": 18,
   "id": "0a8bf92c",
   "metadata": {},
   "outputs": [
    {
     "name": "stdout",
     "output_type": "stream",
     "text": [
      "Top terms for ChatGPT:\n",
      "['important', 'including', 'help', 'helps', 'might', 'and', 'may', 'can', 'overall', 'don', 'questions', 'or', 'doesn', 'located', 'however']\n",
      "\n",
      "Top terms for Human:\n",
      "['url_0', 'etc', 'basically', 'ca', 'only', 'my', 'most', 'do', 'but', 'thus', 'those', 'pretty', 'what', 'then', 'now']\n"
     ]
    }
   ],
   "source": [
    "\n",
    "feature_names = vectorizer.get_feature_names_out()\n",
    "coefficients = model.coef_[0]\n",
    "top_n = 15\n",
    "\n",
    "top_positive_indices = coefficients.argsort()[-top_n:][::-1]\n",
    "top_negative_indices = coefficients.argsort()[:top_n]\n",
    "\n",
    "print(\"Top terms for ChatGPT:\")\n",
    "print([feature_names[i] for i in top_positive_indices])\n",
    "\n",
    "print(\"\\nTop terms for Human:\")\n",
    "print([feature_names[i] for i in top_negative_indices])\n"
   ]
  },
  {
   "cell_type": "markdown",
   "id": "e67ce3f5",
   "metadata": {},
   "source": [
    "\n",
    "# Final Model Summary\n",
    "\n",
    "- **Model:** Logistic Regression with TF-IDF (5000 features).\n",
    "- **Metrics:** Accuracy, Precision, Recall, and F1-score displayed above.\n",
    "- **Insights:** \n",
    "  - The confusion matrix and top terms help identify patterns in AI-generated vs. human-written text.\n",
    "  - The trained model and vectorizer have been saved for reuse.\n"
   ]
  }
 ],
 "metadata": {
  "kernelspec": {
   "display_name": "Python 3",
   "language": "python",
   "name": "python3"
  },
  "language_info": {
   "codemirror_mode": {
    "name": "ipython",
    "version": 3
   },
   "file_extension": ".py",
   "mimetype": "text/x-python",
   "name": "python",
   "nbconvert_exporter": "python",
   "pygments_lexer": "ipython3",
   "version": "3.10.5"
  }
 },
 "nbformat": 4,
 "nbformat_minor": 5
}
