{
 "cells": [
  {
   "cell_type": "markdown",
   "id": "9d8ddec5",
   "metadata": {},
   "source": [
    "# AI-Generated Text Detection - Baseline Model"
   ]
  },
  {
   "cell_type": "code",
   "execution_count": 8,
   "id": "a5fbc382",
   "metadata": {},
   "outputs": [
    {
     "name": "stdout",
     "output_type": "stream",
     "text": [
      "Processed dataset saved to ../data/processed_hc3.csv with 85449 samples.\n"
     ]
    }
   ],
   "source": [
    "\n",
    "# Run preprocessing script to prepare processed_hc3.csv\n",
    "!python3 ../scripts/data_preprocessing.py\n"
   ]
  },
  {
   "cell_type": "markdown",
   "id": "98843784",
   "metadata": {},
   "source": [
    "## Train Baseline Model"
   ]
  },
  {
   "cell_type": "code",
   "execution_count": 9,
   "id": "7976c33f",
   "metadata": {},
   "outputs": [
    {
     "name": "stdout",
     "output_type": "stream",
     "text": [
      "Traceback (most recent call last):\n",
      "  File \"/Users/ethanc/Desktop/Northeastern/CS5100/Final Project/notebooks/../scripts/train_baseline.py\", line 46, in <module>\n",
      "    train_baseline_model()\n",
      "  File \"/Users/ethanc/Desktop/Northeastern/CS5100/Final Project/notebooks/../scripts/train_baseline.py\", line 15, in train_baseline_model\n",
      "    raise FileNotFoundError(f\"Processed dataset not found at {data_path}. Run data_preprocessing.py first.\")\n",
      "FileNotFoundError: Processed dataset not found at data/processed_hc3.csv. Run data_preprocessing.py first.\n"
     ]
    }
   ],
   "source": [
    "\n",
    "# Train TF-IDF + Logistic Regression model\n",
    "!python3 ../scripts/train_baseline.py\n"
   ]
  },
  {
   "cell_type": "markdown",
   "id": "4d09e368",
   "metadata": {},
   "source": [
    "## Load and Display Evaluation Metrics"
   ]
  },
  {
   "cell_type": "code",
   "execution_count": null,
   "id": "1ab9c7dc",
   "metadata": {},
   "outputs": [],
   "source": [
    "\n",
    "import joblib\n",
    "import pandas as pd\n",
    "from sklearn.metrics import classification_report, confusion_matrix\n",
    "\n",
    "# Load model and vectorizer\n",
    "model = joblib.load('../models/baseline_model.pkl')\n",
    "vectorizer = joblib.load('../models/tfidf_vectorizer.pkl')\n",
    "\n",
    "# Load test dataset\n",
    "df = pd.read_csv('../data/processed_hc3.csv')\n",
    "from sklearn.model_selection import train_test_split\n",
    "X_train, X_test, y_train, y_test = train_test_split(df['text'], df['label'], test_size=0.2, random_state=42)\n",
    "\n",
    "# Transform test data and evaluate\n",
    "X_test_tfidf = vectorizer.transform(X_test)\n",
    "y_pred = model.predict(X_test_tfidf)\n",
    "print(classification_report(y_test, y_pred))\n",
    "\n",
    "cm = confusion_matrix(y_test, y_pred)\n",
    "cm\n"
   ]
  }
 ],
 "metadata": {
  "kernelspec": {
   "display_name": "Python 3",
   "language": "python",
   "name": "python3"
  },
  "language_info": {
   "codemirror_mode": {
    "name": "ipython",
    "version": 3
   },
   "file_extension": ".py",
   "mimetype": "text/x-python",
   "name": "python",
   "nbconvert_exporter": "python",
   "pygments_lexer": "ipython3",
   "version": "3.10.5"
  }
 },
 "nbformat": 4,
 "nbformat_minor": 5
}
