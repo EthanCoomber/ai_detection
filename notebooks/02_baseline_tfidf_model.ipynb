{
 "cells": [
  {
   "cell_type": "markdown",
   "id": "9d8ddec5",
   "metadata": {},
   "source": [
    "# AI-Generated Text Detection - Baseline Model"
   ]
  },
  {
   "cell_type": "code",
   "execution_count": 11,
   "id": "a5fbc382",
   "metadata": {},
   "outputs": [
    {
     "name": "stdout",
     "output_type": "stream",
     "text": [
      "Processed dataset saved to ../data/processed_hc3.csv with 85431 valid samples.\n"
     ]
    }
   ],
   "source": [
    "\n",
    "# Run preprocessing script to prepare processed_hc3.csv\n",
    "!python3 ../scripts/data_preprocessing.py\n"
   ]
  },
  {
   "cell_type": "markdown",
   "id": "98843784",
   "metadata": {},
   "source": [
    "## Train Baseline Model"
   ]
  },
  {
   "cell_type": "code",
   "execution_count": 12,
   "id": "7976c33f",
   "metadata": {},
   "outputs": [
    {
     "name": "stdout",
     "output_type": "stream",
     "text": [
      "Classification Report:\n",
      "               precision    recall  f1-score   support\n",
      "\n",
      "           0       0.96      0.98      0.97     11627\n",
      "           1       0.95      0.91      0.93      5460\n",
      "\n",
      "    accuracy                           0.95     17087\n",
      "   macro avg       0.95      0.94      0.95     17087\n",
      "weighted avg       0.95      0.95      0.95     17087\n",
      "\n",
      "Confusion Matrix:\n",
      " [[11352   275]\n",
      " [  518  4942]]\n",
      "Model saved to ../models/baseline_model.pkl and vectorizer saved to ../models/tfidf_vectorizer.pkl.\n"
     ]
    }
   ],
   "source": [
    "\n",
    "# Train TF-IDF + Logistic Regression model\n",
    "!python3 ../scripts/train_baseline.py\n"
   ]
  },
  {
   "cell_type": "markdown",
   "id": "4d09e368",
   "metadata": {},
   "source": [
    "## Load and Display Evaluation Metrics"
   ]
  },
  {
   "cell_type": "code",
   "execution_count": null,
   "id": "1ab9c7dc",
   "metadata": {},
   "outputs": [],
   "source": [
    "\n",
    "import joblib\n",
    "import pandas as pd\n",
    "from sklearn.metrics import classification_report, confusion_matrix\n",
    "\n",
    "# Load model and vectorizer\n",
    "model = joblib.load('../models/baseline_model.pkl')\n",
    "vectorizer = joblib.load('../models/tfidf_vectorizer.pkl')\n",
    "\n",
    "# Load test dataset\n",
    "df = pd.read_csv('../data/processed_hc3.csv')\n",
    "from sklearn.model_selection import train_test_split\n",
    "X_train, X_test, y_train, y_test = train_test_split(df['text'], df['label'], test_size=0.2, random_state=42)\n",
    "\n",
    "# Transform test data and evaluate\n",
    "X_test_tfidf = vectorizer.transform(X_test)\n",
    "y_pred = model.predict(X_test_tfidf)\n",
    "print(classification_report(y_test, y_pred))\n",
    "\n",
    "cm = confusion_matrix(y_test, y_pred)\n",
    "cm\n"
   ]
  }
 ],
 "metadata": {
  "kernelspec": {
   "display_name": "Python 3",
   "language": "python",
   "name": "python3"
  },
  "language_info": {
   "codemirror_mode": {
    "name": "ipython",
    "version": 3
   },
   "file_extension": ".py",
   "mimetype": "text/x-python",
   "name": "python",
   "nbconvert_exporter": "python",
   "pygments_lexer": "ipython3",
   "version": "3.10.5"
  }
 },
 "nbformat": 4,
 "nbformat_minor": 5
}
